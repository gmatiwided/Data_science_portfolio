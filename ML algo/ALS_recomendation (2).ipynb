{
 "cells": [
  {
   "cell_type": "code",
   "execution_count": 1,
   "id": "c541ca8b-5d20-488b-89b7-ae6afcd1f56e",
   "metadata": {
    "tags": []
   },
   "outputs": [],
   "source": [
    "import findspark\n",
    "findspark.init()"
   ]
  },
  {
   "cell_type": "code",
   "execution_count": 2,
   "id": "a0bd36fd-6a60-4d29-b333-8e4a1c773d85",
   "metadata": {
    "tags": []
   },
   "outputs": [],
   "source": [
    "import pyspark\n",
    "from pyspark.sql import SparkSession\n",
    "from pyspark.sql.types import *\n",
    "from pyspark.sql.functions import *\n",
    "\n",
    "# Configure spark session\n",
    "spark = SparkSession\\\n",
    "    .builder\\\n",
    "    .master('local[2]')\\\n",
    "    .appName('AMAZON_BOOK')\\\n",
    "    .config('spark.jars.packages', 'org.mongodb.spark:mongo-spark-connector_2.12:2.4.1')\\\n",
    "    .config(\"spark.driver.memory\", \"5g\")\\\n",
    "    .getOrCreate()"
   ]
  },
  {
   "cell_type": "code",
   "execution_count": 3,
   "id": "58e07825-5d2c-4622-be60-2a70d39dfa97",
   "metadata": {
    "tags": []
   },
   "outputs": [
    {
     "name": "stdout",
     "output_type": "stream",
     "text": [
      "+----------+-----+--------------------+--------------+--------------------+-----+--------------------+--------------------+\n",
      "|        Id|Price|               Title|       User_id|                 _id|score|             summary|                text|\n",
      "+----------+-----+--------------------+--------------+--------------------+-----+--------------------+--------------------+\n",
      "|1558746153| NULL|Chicken Soup for ...| AEKP4FJRWRGZT|{6570367e824b9730...|  5.0|             Helpful|Shows you what ot...|\n",
      "|1882931173| NULL|Its Only Art If I...| AVCGYZL8FQQTD|{6570367e824b9730...|  4.0|Nice collection o...|This is only for ...|\n",
      "|1558746153| NULL|Chicken Soup for ...|          NULL|{6570367e824b9730...|  5.0|\"This book hit th...|This book was ver...|\n",
      "|0826414346| NULL|Dr. Seuss: Americ...|A30TK6U7DNS82R|{6570367e824b9730...|  5.0|   Really Enjoyed It|I don't care much...|\n",
      "|0826414346| NULL|Dr. Seuss: Americ...|A3UH4UZ4RSVO82|{6570367e824b9730...|  5.0|Essential for eve...|\"If people become...|\n",
      "|1558746153| NULL|Chicken Soup for ...|          NULL|{6570367e824b9730...|  4.0| oh this book was ok|well me and my fr...|\n",
      "|1558746153| NULL|Chicken Soup for ...|          NULL|{6570367e824b9730...|  4.0| oh this book was ok|well me and my fr...|\n",
      "|0826414346| NULL|Dr. Seuss: Americ...|A2MVUWT453QH61|{6570367e824b9730...|  4.0|Phlip Nel gives s...|Theodore Seuss Ge...|\n",
      "|1558746153| NULL|Chicken Soup for ...|          NULL|{6570367e824b9730...|  5.0|Chicken Soup for ...|Chicken Soup for ...|\n",
      "|0826414346| NULL|Dr. Seuss: Americ...|A22X4XUPKF66MR|{6570367e824b9730...|  4.0|Good academic ove...|\"Philip Nel - Dr....|\n",
      "|1558746153| NULL|Chicken Soup for ...|A1M7N5V6W0Z0H7|{6570367e824b9730...|  5.0|More stories abou...|Another great boo...|\n",
      "|0826414346| NULL|Dr. Seuss: Americ...|A2F6NONFUDB6UK|{6570367e824b9730...|  4.0|One of America's ...|\"\"\"Dr. Seuss: Ame...|\n",
      "|1558746153| NULL|Chicken Soup for ...|          NULL|{6570367e824b9730...|  5.0|        Heart-Warmer|Chicken Soup is a...|\n",
      "|0826414346| NULL|Dr. Seuss: Americ...|A14OJS0VWMOSWO|{6570367e824b9730...|  5.0|A memorably excel...|Theodor Seuss Gie...|\n",
      "|1558746153| NULL|Chicken Soup for ...|          NULL|{6570367e824b9730...|  5.0|     RACHEL'S REVIEW|One day my friend...|\n",
      "|0826414346| NULL|Dr. Seuss: Americ...|A2RSSXTDZDUSH4|{6570367e824b9730...|  5.0|Academia At It's ...|\"When I recieved ...|\n",
      "|1558746153| NULL|Chicken Soup for ...|          NULL|{6570367e824b9730...|  5.0|This is one of th...|Chicken Soup for ...|\n",
      "|0826414346| NULL|Dr. Seuss: Americ...|A25MD5I2GUIW6W|{6570367e824b9730...|  5.0|And to think that...|\"Trams (or any pu...|\n",
      "|0826414346| NULL|Dr. Seuss: Americ...|A3VA4XFS5WNJO3|{6570367e824b9730...|  4.0|Fascinating accou...|As far as I am aw...|\n",
      "|1558746153| NULL|Chicken Soup for ...|A1UMNA2JK9NELD|{6570367e824b9730...|  5.0|Kleenex Needed to...|Warning: Do not r...|\n",
      "+----------+-----+--------------------+--------------+--------------------+-----+--------------------+--------------------+\n",
      "only showing top 20 rows\n",
      "\n"
     ]
    }
   ],
   "source": [
    "# MongoDB connection URI\n",
    "mongo_uri = \"mongodb://localhost:27017/AMAZON_BOOK.RATE\"\n",
    "# Read data from MongoDB collection into a DataFrame and limit to 1,000,000 rows\n",
    "df_rate = spark.read.format(\"mongo\").option(\"uri\", mongo_uri).load().limit(1000000)\n",
    "# Show the DataFrame\n",
    "df_rate.show()"
   ]
  },
  {
   "cell_type": "code",
   "execution_count": 4,
   "id": "38bfb313-e6b7-4681-97ea-997f1b930432",
   "metadata": {
    "tags": []
   },
   "outputs": [
    {
     "data": {
      "text/plain": [
       "DataFrame[Id: string, Price: string, Title: string, User_id: string, _id: struct<oid:string>, score: string, text: string]"
      ]
     },
     "execution_count": 4,
     "metadata": {},
     "output_type": "execute_result"
    }
   ],
   "source": [
    "df_rate = df_rate.drop('summary')\n",
    "df_rate"
   ]
  },
  {
   "cell_type": "code",
   "execution_count": 5,
   "id": "47f674a0-373f-45f0-88cb-533d6889200b",
   "metadata": {
    "tags": []
   },
   "outputs": [
    {
     "name": "stdout",
     "output_type": "stream",
     "text": [
      "+----------+-----+--------------------+--------------+--------------------+-----+--------------------+\n",
      "|        Id|Price|               Title|       User_id|                 _id|score|                text|\n",
      "+----------+-----+--------------------+--------------+--------------------+-----+--------------------+\n",
      "|1558746153| NULL|Chicken Soup for ...| AEKP4FJRWRGZT|{6570367e824b9730...|  5.0|Shows you what ot...|\n",
      "|1882931173| NULL|Its Only Art If I...| AVCGYZL8FQQTD|{6570367e824b9730...|  4.0|This is only for ...|\n",
      "|1558746153| NULL|Chicken Soup for ...|          NULL|{6570367e824b9730...|  5.0|This book was ver...|\n",
      "|0826414346| NULL|Dr. Seuss: Americ...|A30TK6U7DNS82R|{6570367e824b9730...|  5.0|I don't care much...|\n",
      "|0826414346| NULL|Dr. Seuss: Americ...|A3UH4UZ4RSVO82|{6570367e824b9730...|  5.0|\"If people become...|\n",
      "|1558746153| NULL|Chicken Soup for ...|          NULL|{6570367e824b9730...|  4.0|well me and my fr...|\n",
      "|1558746153| NULL|Chicken Soup for ...|          NULL|{6570367e824b9730...|  4.0|well me and my fr...|\n",
      "|0826414346| NULL|Dr. Seuss: Americ...|A2MVUWT453QH61|{6570367e824b9730...|  4.0|Theodore Seuss Ge...|\n",
      "|1558746153| NULL|Chicken Soup for ...|          NULL|{6570367e824b9730...|  5.0|Chicken Soup for ...|\n",
      "|0826414346| NULL|Dr. Seuss: Americ...|A22X4XUPKF66MR|{6570367e824b9730...|  4.0|\"Philip Nel - Dr....|\n",
      "|1558746153| NULL|Chicken Soup for ...|A1M7N5V6W0Z0H7|{6570367e824b9730...|  5.0|Another great boo...|\n",
      "|0826414346| NULL|Dr. Seuss: Americ...|A2F6NONFUDB6UK|{6570367e824b9730...|  4.0|\"\"\"Dr. Seuss: Ame...|\n",
      "|1558746153| NULL|Chicken Soup for ...|          NULL|{6570367e824b9730...|  5.0|Chicken Soup is a...|\n",
      "|0826414346| NULL|Dr. Seuss: Americ...|A14OJS0VWMOSWO|{6570367e824b9730...|  5.0|Theodor Seuss Gie...|\n",
      "|1558746153| NULL|Chicken Soup for ...|          NULL|{6570367e824b9730...|  5.0|One day my friend...|\n",
      "|0826414346| NULL|Dr. Seuss: Americ...|A2RSSXTDZDUSH4|{6570367e824b9730...|  5.0|\"When I recieved ...|\n",
      "|1558746153| NULL|Chicken Soup for ...|          NULL|{6570367e824b9730...|  5.0|Chicken Soup for ...|\n",
      "|0826414346| NULL|Dr. Seuss: Americ...|A25MD5I2GUIW6W|{6570367e824b9730...|  5.0|\"Trams (or any pu...|\n",
      "|0826414346| NULL|Dr. Seuss: Americ...|A3VA4XFS5WNJO3|{6570367e824b9730...|  4.0|As far as I am aw...|\n",
      "|1558746153| NULL|Chicken Soup for ...|A1UMNA2JK9NELD|{6570367e824b9730...|  5.0|Warning: Do not r...|\n",
      "+----------+-----+--------------------+--------------+--------------------+-----+--------------------+\n",
      "only showing top 20 rows\n",
      "\n"
     ]
    }
   ],
   "source": [
    "df_rate.show()"
   ]
  },
  {
   "cell_type": "code",
   "execution_count": 6,
   "id": "0bbce232-63fc-4fa5-9c8b-743f802b8d94",
   "metadata": {
    "tags": []
   },
   "outputs": [
    {
     "data": {
      "text/plain": [
       "DataFrame[Id: string, Title: string, User_id: string, score: string, text: string]"
      ]
     },
     "execution_count": 6,
     "metadata": {},
     "output_type": "execute_result"
    }
   ],
   "source": [
    "df_rate = df_rate.drop('_id')\n",
    "df_rate = df_rate.drop('Price')\n",
    "df_rate"
   ]
  },
  {
   "cell_type": "code",
   "execution_count": 7,
   "id": "25cac010-4b2f-48ca-aec7-16b1b5d3b877",
   "metadata": {
    "tags": []
   },
   "outputs": [
    {
     "data": {
      "text/plain": [
       "DataFrame[Id: string, Title: string, User_id: string, score: float, text: string]"
      ]
     },
     "execution_count": 7,
     "metadata": {},
     "output_type": "execute_result"
    }
   ],
   "source": [
    "# Convert the \"score\" column to float\n",
    "df_rate = df_rate.withColumn(\"score\", col(\"score\").cast(\"float\"))\n",
    "df_rate"
   ]
  },
  {
   "cell_type": "code",
   "execution_count": 8,
   "id": "7d02c3cd-82a9-4623-9075-a221fe2904ac",
   "metadata": {
    "tags": []
   },
   "outputs": [
    {
     "data": {
      "text/plain": [
       "DataFrame[Id: string, Title: string, User_id: string, score: float]"
      ]
     },
     "execution_count": 8,
     "metadata": {},
     "output_type": "execute_result"
    }
   ],
   "source": [
    "df_rate = df_rate.drop('Text')\n",
    "df_rate"
   ]
  },
  {
   "cell_type": "code",
   "execution_count": 9,
   "id": "f43e089d-c9d9-4910-9b27-7c852019d8de",
   "metadata": {
    "tags": []
   },
   "outputs": [
    {
     "name": "stdout",
     "output_type": "stream",
     "text": [
      "+-----------------------------------------------------------------+\n",
      "|count(CASE WHEN (isnan(score) OR (score IS NULL)) THEN score END)|\n",
      "+-----------------------------------------------------------------+\n",
      "|                                                             5729|\n",
      "+-----------------------------------------------------------------+\n",
      "\n"
     ]
    }
   ],
   "source": [
    "# Check for null or NaN values in the \"score\" column\n",
    "df_rate.select([count(when(isnan('score') | col('score').isNull(), 'score'))]).show()"
   ]
  },
  {
   "cell_type": "code",
   "execution_count": 10,
   "id": "f27af248-9008-4779-b45c-54d699f368fe",
   "metadata": {
    "tags": []
   },
   "outputs": [],
   "source": [
    "df_rate = df_rate.na.drop(subset=[\"score\"])"
   ]
  },
  {
   "cell_type": "code",
   "execution_count": 11,
   "id": "24fce44f-7e8b-4c62-bde2-7328ff66e07c",
   "metadata": {
    "tags": []
   },
   "outputs": [
    {
     "name": "stdout",
     "output_type": "stream",
     "text": [
      "+-----------------------------------------------------------------+\n",
      "|count(CASE WHEN (isnan(score) OR (score IS NULL)) THEN score END)|\n",
      "+-----------------------------------------------------------------+\n",
      "|                                                                0|\n",
      "+-----------------------------------------------------------------+\n",
      "\n"
     ]
    }
   ],
   "source": [
    "# Check for null or NaN values in the \"score\" column\n",
    "df_rate.select([count(when(isnan('score') | col('score').isNull(), 'score'))]).show()"
   ]
  },
  {
   "cell_type": "code",
   "execution_count": 12,
   "id": "2a99c70b-9c7f-450e-b018-706dd140a168",
   "metadata": {
    "tags": []
   },
   "outputs": [
    {
     "name": "stdout",
     "output_type": "stream",
     "text": [
      "+-----+\n",
      "|score|\n",
      "+-----+\n",
      "|  5.0|\n",
      "|  4.0|\n",
      "|  5.0|\n",
      "|  5.0|\n",
      "|  5.0|\n",
      "|  4.0|\n",
      "|  4.0|\n",
      "|  4.0|\n",
      "|  5.0|\n",
      "|  4.0|\n",
      "|  5.0|\n",
      "|  4.0|\n",
      "|  5.0|\n",
      "|  5.0|\n",
      "|  5.0|\n",
      "|  5.0|\n",
      "|  5.0|\n",
      "|  5.0|\n",
      "|  4.0|\n",
      "|  5.0|\n",
      "+-----+\n",
      "only showing top 20 rows\n",
      "\n"
     ]
    }
   ],
   "source": [
    "df_rate.select('score').show()"
   ]
  },
  {
   "cell_type": "code",
   "execution_count": 13,
   "id": "14f260e2-f9ce-4620-bb73-011f7800836e",
   "metadata": {
    "tags": []
   },
   "outputs": [],
   "source": [
    "from pyspark.sql.functions import col\n",
    "from pyspark.ml.feature import StringIndexer\n",
    "from pyspark.ml import Pipeline\n",
    "from pyspark.ml.recommendation import ALS\n",
    "from pyspark.ml.evaluation import RegressionEvaluator\n",
    "\n",
    "\n",
    "# Convert string columns to numerical indices\n",
    "indexers = [StringIndexer(inputCol=column, outputCol=column+\"_index\", handleInvalid=\"skip\").fit(df_rate) for column in ['Id', 'Title', 'User_id']]\n",
    "pipeline = Pipeline(stages=indexers)\n",
    "df_rate_indexed = pipeline.fit(df_rate).transform(df_rate)"
   ]
  },
  {
   "cell_type": "code",
   "execution_count": 14,
   "id": "003cb91e-6550-4d03-8a18-6a7cf98176c6",
   "metadata": {
    "tags": []
   },
   "outputs": [
    {
     "name": "stdout",
     "output_type": "stream",
     "text": [
      "root\n",
      " |-- Id: string (nullable = true)\n",
      " |-- Title: string (nullable = true)\n",
      " |-- User_id: string (nullable = true)\n",
      " |-- score: float (nullable = true)\n",
      " |-- Id_index: double (nullable = false)\n",
      " |-- Title_index: double (nullable = false)\n",
      " |-- User_id_index: double (nullable = false)\n",
      "\n"
     ]
    }
   ],
   "source": [
    "df_rate_indexed.printSchema()"
   ]
  },
  {
   "cell_type": "code",
   "execution_count": 15,
   "id": "312ba31d-e885-40d3-a9d9-9d4c57676952",
   "metadata": {
    "tags": []
   },
   "outputs": [
    {
     "name": "stdout",
     "output_type": "stream",
     "text": [
      "Root Mean Squared Error (RMSE) = 1.6910231008300247\n"
     ]
    }
   ],
   "source": [
    "\n",
    "# Create ALS model\n",
    "als = ALS(\n",
    "    userCol=\"User_id_index\",\n",
    "    itemCol=\"Title_index\",\n",
    "    ratingCol=\"score\",\n",
    "    rank=15,      # Adjust this parameter\n",
    "    maxIter=15,\n",
    "    regParam=0.1, # Adjust this parameter\n",
    "    coldStartStrategy=\"drop\",\n",
    ")\n",
    "\n",
    "\n",
    "# Split the data into training and test sets\n",
    "(training, test) = df_rate_indexed.randomSplit([0.8, 0.2], seed=1234)\n",
    "\n",
    "# Fit the ALS model to the training data\n",
    "model = als.fit(training)\n",
    "\n",
    "# Make predictions on the test data\n",
    "predictions = model.transform(test)\n",
    "\n",
    "# Evaluate the model\n",
    "evaluator = RegressionEvaluator(metricName=\"rmse\", labelCol=\"score\", predictionCol=\"prediction\")\n",
    "rmse = evaluator.evaluate(predictions)\n",
    "print(f\"Root Mean Squared Error (RMSE) = {rmse}\")"
   ]
  },
  {
   "cell_type": "code",
   "execution_count": 18,
   "id": "ba3106c7-ec9d-4ade-b793-0ad6732f701d",
   "metadata": {
    "tags": []
   },
   "outputs": [
    {
     "name": "stdout",
     "output_type": "stream",
     "text": [
      "Root Mean Squared Error (RMSE) = 1.5040903560449084\n"
     ]
    }
   ],
   "source": [
    "\n",
    "# Create ALS model\n",
    "als = ALS(\n",
    "    userCol=\"User_id_index\",\n",
    "    itemCol=\"Title_index\",\n",
    "    ratingCol=\"score\",\n",
    "    rank=50,      # Adjust this parameter\n",
    "    maxIter=20,\n",
    "    regParam=0.1, # Adjust this parameter\n",
    "    coldStartStrategy=\"drop\",\n",
    ")\n",
    "\n",
    "\n",
    "# Split the data into training and test sets\n",
    "(training, test) = df_rate_indexed.randomSplit([0.8, 0.2], seed=1234)\n",
    "\n",
    "# Fit the ALS model to the training data\n",
    "model = als.fit(training)\n",
    "\n",
    "# Make predictions on the test data\n",
    "predictions = model.transform(test)\n",
    "\n",
    "# Evaluate the model\n",
    "evaluator = RegressionEvaluator(metricName=\"rmse\", labelCol=\"score\", predictionCol=\"prediction\")\n",
    "rmse = evaluator.evaluate(predictions)\n",
    "print(f\"Root Mean Squared Error (RMSE) = {rmse}\")"
   ]
  },
  {
   "cell_type": "code",
   "execution_count": 17,
   "id": "5191d2f5-9bd5-4c3b-8fc2-6f90aec41768",
   "metadata": {
    "tags": []
   },
   "outputs": [
    {
     "name": "stdout",
     "output_type": "stream",
     "text": [
      "+-------------+----------------------------------------------------------------------------------------------------+\n",
      "|User_id_index|recommendations                                                                                     |\n",
      "+-------------+----------------------------------------------------------------------------------------------------+\n",
      "|1            |[{9994, 5.9698405}, {10882, 5.7770405}, {11277, 5.7585497}, {11979, 5.7438855}, {3456, 5.743495}]   |\n",
      "|3            |[{56495, 6.4719734}, {66459, 6.072416}, {33491, 5.9220114}, {11175, 5.875997}, {6849, 5.8391876}]   |\n",
      "|6            |[{15651, 6.038165}, {22066, 5.840315}, {7832, 5.798223}, {22632, 5.7839284}, {60924, 5.6988163}]    |\n",
      "|12           |[{56495, 5.767653}, {14754, 5.479958}, {9087, 5.339184}, {7412, 5.246888}, {6184, 5.242036}]        |\n",
      "|13           |[{52411, 6.301175}, {11175, 6.296687}, {64065, 6.206318}, {70918, 6.1913047}, {56495, 6.1319957}]   |\n",
      "|16           |[{52411, 6.165396}, {13267, 5.9807725}, {49132, 5.9774656}, {23930, 5.743216}, {2966, 5.7290916}]   |\n",
      "|22           |[{20689, 6.1716948}, {26287, 6.116484}, {11175, 6.083063}, {24517, 5.910527}, {56495, 5.8912096}]   |\n",
      "|26           |[{33419, 5.6094565}, {26287, 5.5716634}, {18314, 5.5291524}, {25773, 5.517114}, {57577, 5.344919}]  |\n",
      "|27           |[{56495, 6.4586134}, {26287, 5.947452}, {13577, 5.9130263}, {11175, 5.8273687}, {35978, 5.7331333}] |\n",
      "|28           |[{9318, 5.158664}, {19648, 4.8949895}, {49249, 4.881256}, {7379, 4.8636456}, {5978, 4.8336973}]     |\n",
      "|31           |[{52411, 6.6452184}, {64065, 5.872023}, {20222, 5.820219}, {11175, 5.795535}, {30857, 5.788367}]    |\n",
      "|34           |[{56495, 5.3766413}, {26287, 5.234441}, {62038, 5.222541}, {29185, 5.164635}, {70918, 5.156376}]    |\n",
      "|44           |[{14761, 5.789416}, {56495, 5.776514}, {15651, 5.702624}, {11175, 5.674769}, {26287, 5.6715593}]    |\n",
      "|47           |[{20379, 5.81998}, {14267, 5.795021}, {16799, 5.583908}, {11175, 5.53977}, {22632, 5.5367618}]      |\n",
      "|52           |[{52411, 6.490432}, {11175, 6.251845}, {64065, 6.2091403}, {11193, 6.1655293}, {17810, 6.114803}]   |\n",
      "|53           |[{52411, 6.487915}, {11175, 6.0680885}, {17810, 6.0606337}, {13134, 6.0310097}, {60924, 6.0236216}] |\n",
      "|65           |[{52411, 6.3525763}, {27777, 6.08239}, {56495, 5.8802085}, {20222, 5.759116}, {50755, 5.738173}]    |\n",
      "|76           |[{56495, 5.9441895}, {62038, 5.827719}, {64065, 5.7497287}, {60924, 5.6861286}, {14267, 5.656944}]  |\n",
      "|78           |[{11175, 6.3881626}, {52411, 6.2077203}, {56495, 6.0605154}, {64065, 6.0191984}, {66459, 6.0055165}]|\n",
      "|81           |[{56495, 5.9728065}, {15762, 5.5394187}, {6232, 5.294282}, {3981, 5.2806115}, {13257, 5.2355795}]   |\n",
      "+-------------+----------------------------------------------------------------------------------------------------+\n",
      "only showing top 20 rows\n",
      "\n"
     ]
    }
   ],
   "source": [
    "# Generate top N book recommendations for all users\n",
    "userRecs = model.recommendForAllUsers(5)  # You can change 5 to the desired number of recommendations\n",
    "\n",
    "# Show the recommendations\n",
    "userRecs.show(truncate=False)"
   ]
  },
  {
   "cell_type": "code",
   "execution_count": null,
   "id": "ecf4c1f7-1ec9-4260-a3d6-ba850ecdc9f8",
   "metadata": {},
   "outputs": [],
   "source": []
  }
 ],
 "metadata": {
  "kernelspec": {
   "display_name": "Python 3 (ipykernel)",
   "language": "python",
   "name": "python3"
  },
  "language_info": {
   "codemirror_mode": {
    "name": "ipython",
    "version": 3
   },
   "file_extension": ".py",
   "mimetype": "text/x-python",
   "name": "python",
   "nbconvert_exporter": "python",
   "pygments_lexer": "ipython3",
   "version": "3.11.4"
  }
 },
 "nbformat": 4,
 "nbformat_minor": 5
}
