{
 "cells": [
  {
   "cell_type": "code",
   "execution_count": 1,
   "id": "bfa873de-f067-4875-b3b5-78cb897282d5",
   "metadata": {
    "tags": []
   },
   "outputs": [],
   "source": [
    "import findspark\n",
    "findspark.init()"
   ]
  },
  {
   "cell_type": "code",
   "execution_count": 2,
   "id": "73fead50-3afd-45ce-b535-c22dbc596f2c",
   "metadata": {
    "tags": []
   },
   "outputs": [],
   "source": [
    "import pyspark\n",
    "from pyspark.sql import SparkSession\n",
    "from pyspark.sql.types import *\n",
    "from pyspark.sql.functions import *\n",
    "\n",
    "# Configure spark session\n",
    "spark = SparkSession\\\n",
    "    .builder\\\n",
    "    .master('local[2]')\\\n",
    "    .appName('AMAZON_BOOK')\\\n",
    "    .config('spark.jars.packages', 'org.mongodb.spark:mongo-spark-connector_2.12:2.4.1')\\\n",
    "    .config(\"spark.driver.memory\", \"5g\")\\\n",
    "    .getOrCreate()"
   ]
  },
  {
   "cell_type": "code",
   "execution_count": 3,
   "id": "61b2ea0e-77de-4a8f-a483-119f7b280227",
   "metadata": {
    "tags": []
   },
   "outputs": [
    {
     "name": "stdout",
     "output_type": "stream",
     "text": [
      "+----------+-----+--------------------+--------------+--------------------+-----+--------------------+--------------------+\n",
      "|        Id|Price|               Title|       User_id|                 _id|score|             summary|                text|\n",
      "+----------+-----+--------------------+--------------+--------------------+-----+--------------------+--------------------+\n",
      "|1558746153| NULL|Chicken Soup for ...| AEKP4FJRWRGZT|{6570367e824b9730...|  5.0|             Helpful|Shows you what ot...|\n",
      "|1882931173| NULL|Its Only Art If I...| AVCGYZL8FQQTD|{6570367e824b9730...|  4.0|Nice collection o...|This is only for ...|\n",
      "|1558746153| NULL|Chicken Soup for ...|          NULL|{6570367e824b9730...|  5.0|\"This book hit th...|This book was ver...|\n",
      "|0826414346| NULL|Dr. Seuss: Americ...|A30TK6U7DNS82R|{6570367e824b9730...|  5.0|   Really Enjoyed It|I don't care much...|\n",
      "|0826414346| NULL|Dr. Seuss: Americ...|A3UH4UZ4RSVO82|{6570367e824b9730...|  5.0|Essential for eve...|\"If people become...|\n",
      "|1558746153| NULL|Chicken Soup for ...|          NULL|{6570367e824b9730...|  4.0| oh this book was ok|well me and my fr...|\n",
      "|1558746153| NULL|Chicken Soup for ...|          NULL|{6570367e824b9730...|  4.0| oh this book was ok|well me and my fr...|\n",
      "|0826414346| NULL|Dr. Seuss: Americ...|A2MVUWT453QH61|{6570367e824b9730...|  4.0|Phlip Nel gives s...|Theodore Seuss Ge...|\n",
      "|1558746153| NULL|Chicken Soup for ...|          NULL|{6570367e824b9730...|  5.0|Chicken Soup for ...|Chicken Soup for ...|\n",
      "|0826414346| NULL|Dr. Seuss: Americ...|A22X4XUPKF66MR|{6570367e824b9730...|  4.0|Good academic ove...|\"Philip Nel - Dr....|\n",
      "|1558746153| NULL|Chicken Soup for ...|A1M7N5V6W0Z0H7|{6570367e824b9730...|  5.0|More stories abou...|Another great boo...|\n",
      "|0826414346| NULL|Dr. Seuss: Americ...|A2F6NONFUDB6UK|{6570367e824b9730...|  4.0|One of America's ...|\"\"\"Dr. Seuss: Ame...|\n",
      "|1558746153| NULL|Chicken Soup for ...|          NULL|{6570367e824b9730...|  5.0|        Heart-Warmer|Chicken Soup is a...|\n",
      "|0826414346| NULL|Dr. Seuss: Americ...|A14OJS0VWMOSWO|{6570367e824b9730...|  5.0|A memorably excel...|Theodor Seuss Gie...|\n",
      "|1558746153| NULL|Chicken Soup for ...|          NULL|{6570367e824b9730...|  5.0|     RACHEL'S REVIEW|One day my friend...|\n",
      "|0826414346| NULL|Dr. Seuss: Americ...|A2RSSXTDZDUSH4|{6570367e824b9730...|  5.0|Academia At It's ...|\"When I recieved ...|\n",
      "|1558746153| NULL|Chicken Soup for ...|          NULL|{6570367e824b9730...|  5.0|This is one of th...|Chicken Soup for ...|\n",
      "|0826414346| NULL|Dr. Seuss: Americ...|A25MD5I2GUIW6W|{6570367e824b9730...|  5.0|And to think that...|\"Trams (or any pu...|\n",
      "|0826414346| NULL|Dr. Seuss: Americ...|A3VA4XFS5WNJO3|{6570367e824b9730...|  4.0|Fascinating accou...|As far as I am aw...|\n",
      "|1558746153| NULL|Chicken Soup for ...|A1UMNA2JK9NELD|{6570367e824b9730...|  5.0|Kleenex Needed to...|Warning: Do not r...|\n",
      "+----------+-----+--------------------+--------------+--------------------+-----+--------------------+--------------------+\n",
      "only showing top 20 rows\n",
      "\n"
     ]
    }
   ],
   "source": [
    "# MongoDB connection URI\n",
    "mongo_uri = \"mongodb://localhost:27017/AMAZON_BOOK.RATE\"\n",
    "# Read data from MongoDB collection into a DataFrame\n",
    "df_rate = spark.read.format(\"mongo\").option(\"uri\", mongo_uri).load()\n",
    "# Show the DataFrame\n",
    "df_rate.show()"
   ]
  },
  {
   "cell_type": "code",
   "execution_count": 4,
   "id": "6332e94b-382e-44cb-af27-e57ddb803732",
   "metadata": {
    "tags": []
   },
   "outputs": [
    {
     "data": {
      "text/plain": [
       "DataFrame[Id: string, Price: string, Title: string, User_id: string, _id: struct<oid:string>, score: string, text: string]"
      ]
     },
     "execution_count": 4,
     "metadata": {},
     "output_type": "execute_result"
    }
   ],
   "source": [
    "df_rate = df_rate.drop('summary')\n",
    "df_rate"
   ]
  },
  {
   "cell_type": "code",
   "execution_count": 5,
   "id": "d35db2a2-3a17-4f49-9698-d1ba43c02a2b",
   "metadata": {
    "tags": []
   },
   "outputs": [
    {
     "name": "stdout",
     "output_type": "stream",
     "text": [
      "+----------+-----+--------------------+--------------+--------------------+-----+--------------------+\n",
      "|        Id|Price|               Title|       User_id|                 _id|score|                text|\n",
      "+----------+-----+--------------------+--------------+--------------------+-----+--------------------+\n",
      "|1558746153| NULL|Chicken Soup for ...| AEKP4FJRWRGZT|{6570367e824b9730...|  5.0|Shows you what ot...|\n",
      "|1882931173| NULL|Its Only Art If I...| AVCGYZL8FQQTD|{6570367e824b9730...|  4.0|This is only for ...|\n",
      "|1558746153| NULL|Chicken Soup for ...|          NULL|{6570367e824b9730...|  5.0|This book was ver...|\n",
      "|0826414346| NULL|Dr. Seuss: Americ...|A30TK6U7DNS82R|{6570367e824b9730...|  5.0|I don't care much...|\n",
      "|0826414346| NULL|Dr. Seuss: Americ...|A3UH4UZ4RSVO82|{6570367e824b9730...|  5.0|\"If people become...|\n",
      "|1558746153| NULL|Chicken Soup for ...|          NULL|{6570367e824b9730...|  4.0|well me and my fr...|\n",
      "|1558746153| NULL|Chicken Soup for ...|          NULL|{6570367e824b9730...|  4.0|well me and my fr...|\n",
      "|0826414346| NULL|Dr. Seuss: Americ...|A2MVUWT453QH61|{6570367e824b9730...|  4.0|Theodore Seuss Ge...|\n",
      "|1558746153| NULL|Chicken Soup for ...|          NULL|{6570367e824b9730...|  5.0|Chicken Soup for ...|\n",
      "|0826414346| NULL|Dr. Seuss: Americ...|A22X4XUPKF66MR|{6570367e824b9730...|  4.0|\"Philip Nel - Dr....|\n",
      "|1558746153| NULL|Chicken Soup for ...|A1M7N5V6W0Z0H7|{6570367e824b9730...|  5.0|Another great boo...|\n",
      "|0826414346| NULL|Dr. Seuss: Americ...|A2F6NONFUDB6UK|{6570367e824b9730...|  4.0|\"\"\"Dr. Seuss: Ame...|\n",
      "|1558746153| NULL|Chicken Soup for ...|          NULL|{6570367e824b9730...|  5.0|Chicken Soup is a...|\n",
      "|0826414346| NULL|Dr. Seuss: Americ...|A14OJS0VWMOSWO|{6570367e824b9730...|  5.0|Theodor Seuss Gie...|\n",
      "|1558746153| NULL|Chicken Soup for ...|          NULL|{6570367e824b9730...|  5.0|One day my friend...|\n",
      "|0826414346| NULL|Dr. Seuss: Americ...|A2RSSXTDZDUSH4|{6570367e824b9730...|  5.0|\"When I recieved ...|\n",
      "|1558746153| NULL|Chicken Soup for ...|          NULL|{6570367e824b9730...|  5.0|Chicken Soup for ...|\n",
      "|0826414346| NULL|Dr. Seuss: Americ...|A25MD5I2GUIW6W|{6570367e824b9730...|  5.0|\"Trams (or any pu...|\n",
      "|0826414346| NULL|Dr. Seuss: Americ...|A3VA4XFS5WNJO3|{6570367e824b9730...|  4.0|As far as I am aw...|\n",
      "|1558746153| NULL|Chicken Soup for ...|A1UMNA2JK9NELD|{6570367e824b9730...|  5.0|Warning: Do not r...|\n",
      "+----------+-----+--------------------+--------------+--------------------+-----+--------------------+\n",
      "only showing top 20 rows\n",
      "\n"
     ]
    }
   ],
   "source": [
    "df_rate.show()"
   ]
  },
  {
   "cell_type": "code",
   "execution_count": 6,
   "id": "aa2a8619-cf4c-472e-bc4f-d49f149bbab0",
   "metadata": {
    "tags": []
   },
   "outputs": [
    {
     "data": {
      "text/plain": [
       "DataFrame[Id: string, Title: string, User_id: string, score: string, text: string]"
      ]
     },
     "execution_count": 6,
     "metadata": {},
     "output_type": "execute_result"
    }
   ],
   "source": [
    "df_rate = df_rate.drop('_id')\n",
    "df_rate = df_rate.drop('Price')\n",
    "df_rate"
   ]
  },
  {
   "cell_type": "code",
   "execution_count": 7,
   "id": "e7d33b8c-c426-460c-bcf4-0f6d61b4a895",
   "metadata": {
    "tags": []
   },
   "outputs": [
    {
     "data": {
      "text/plain": [
       "DataFrame[Id: string, Title: string, User_id: string, score: float, text: string]"
      ]
     },
     "execution_count": 7,
     "metadata": {},
     "output_type": "execute_result"
    }
   ],
   "source": [
    "# Convert the \"score\" column to float\n",
    "df_rate = df_rate.withColumn(\"score\", col(\"score\").cast(\"float\"))\n",
    "df_rate"
   ]
  },
  {
   "cell_type": "code",
   "execution_count": 8,
   "id": "3071ec4b-d9e5-45bf-bf78-99f7059cc9bd",
   "metadata": {
    "tags": []
   },
   "outputs": [
    {
     "name": "stdout",
     "output_type": "stream",
     "text": [
      "+-----------------------------------------------------------------+\n",
      "|count(CASE WHEN (isnan(score) OR (score IS NULL)) THEN score END)|\n",
      "+-----------------------------------------------------------------+\n",
      "|                                                            17922|\n",
      "+-----------------------------------------------------------------+\n",
      "\n"
     ]
    }
   ],
   "source": [
    "from pyspark.sql.functions import isnan, when, count, col\n",
    "\n",
    "# Check for null or NaN values in the \"score\" column\n",
    "df_rate.select([count(when(isnan('score') | col('score').isNull(), 'score'))]).show()\n"
   ]
  },
  {
   "cell_type": "code",
   "execution_count": 9,
   "id": "da099adc-a2d8-4998-b260-f35e59d16916",
   "metadata": {
    "tags": []
   },
   "outputs": [
    {
     "name": "stdout",
     "output_type": "stream",
     "text": [
      "+-----------------------------------------------------------------+\n",
      "|count(CASE WHEN (isnan(score) OR (score IS NULL)) THEN score END)|\n",
      "+-----------------------------------------------------------------+\n",
      "|                                                                0|\n",
      "+-----------------------------------------------------------------+\n",
      "\n"
     ]
    }
   ],
   "source": [
    "# Supprimez les lignes avec des valeurs NULL ou NaN dans la colonne \"score\"\n",
    "df_rate = df_rate.na.drop(subset=[\"score\"])\n",
    "# Check for null or NaN values in the \"score\" column\n",
    "df_rate.select([count(when(isnan('score') | col('score').isNull(), 'score'))]).show()\n"
   ]
  },
  {
   "cell_type": "code",
   "execution_count": 10,
   "id": "30f67a14-5021-434c-9727-209a5a404dcf",
   "metadata": {
    "tags": []
   },
   "outputs": [
    {
     "data": {
      "text/plain": [
       "DataFrame[Id: string, Title: string, User_id: string, score: float]"
      ]
     },
     "execution_count": 10,
     "metadata": {},
     "output_type": "execute_result"
    }
   ],
   "source": [
    "df_rate = df_rate.drop('Text')\n",
    "df_rate"
   ]
  },
  {
   "cell_type": "code",
   "execution_count": 11,
   "id": "a099e971-04fa-4482-b755-fb306ee1ec7c",
   "metadata": {
    "tags": []
   },
   "outputs": [
    {
     "name": "stdout",
     "output_type": "stream",
     "text": [
      "Requirement already satisfied: scikit-surprise in c:\\users\\pc\\anaconda3\\lib\\site-packages (1.1.3)\n",
      "Requirement already satisfied: joblib>=1.0.0 in c:\\users\\pc\\anaconda3\\lib\\site-packages (from scikit-surprise) (1.2.0)\n",
      "Requirement already satisfied: numpy>=1.17.3 in c:\\users\\pc\\anaconda3\\lib\\site-packages (from scikit-surprise) (1.24.3)\n",
      "Requirement already satisfied: scipy>=1.3.2 in c:\\users\\pc\\anaconda3\\lib\\site-packages (from scikit-surprise) (1.10.1)\n"
     ]
    }
   ],
   "source": [
    "!pip install scikit-surprise"
   ]
  },
  {
   "cell_type": "code",
   "execution_count": 12,
   "id": "ca8a20cb-6dad-4257-9b2f-585f7ae35821",
   "metadata": {
    "tags": []
   },
   "outputs": [
    {
     "name": "stdout",
     "output_type": "stream",
     "text": [
      "Requirement already satisfied: scikit-learn in c:\\users\\pc\\appdata\\roaming\\python\\python311\\site-packages (1.3.1)\n",
      "Requirement already satisfied: numpy<2.0,>=1.17.3 in c:\\users\\pc\\anaconda3\\lib\\site-packages (from scikit-learn) (1.24.3)\n",
      "Requirement already satisfied: scipy>=1.5.0 in c:\\users\\pc\\anaconda3\\lib\\site-packages (from scikit-learn) (1.10.1)\n",
      "Requirement already satisfied: joblib>=1.1.1 in c:\\users\\pc\\anaconda3\\lib\\site-packages (from scikit-learn) (1.2.0)\n",
      "Requirement already satisfied: threadpoolctl>=2.0.0 in c:\\users\\pc\\anaconda3\\lib\\site-packages (from scikit-learn) (2.2.0)\n"
     ]
    }
   ],
   "source": [
    "!pip install scikit-learn"
   ]
  },
  {
   "cell_type": "code",
   "execution_count": 13,
   "id": "508f003f-d1b9-402a-9d8e-8b446e329af6",
   "metadata": {
    "tags": []
   },
   "outputs": [],
   "source": [
    "# Sélectionner 22,000 lignes aléatoires\n",
    "sample_df = df_rate.limit(22000)\n",
    "\n",
    "\n",
    "# Convertir le DataFrame PySpark en Pandas DataFrame\n",
    "pandas_df = sample_df.toPandas()"
   ]
  },
  {
   "cell_type": "code",
   "execution_count": 14,
   "id": "89996f95-e18d-4080-b986-edbd6658cc56",
   "metadata": {
    "tags": []
   },
   "outputs": [],
   "source": [
    "from surprise import Dataset, Reader\n",
    "\n",
    "reader = Reader(rating_scale=(1, 5))\n",
    "data = Dataset.load_from_df(pandas_df[['User_id', 'Title', 'score']], reader)"
   ]
  },
  {
   "cell_type": "code",
   "execution_count": 15,
   "id": "b76b09e6-e90c-484e-9774-e2b65e2e6738",
   "metadata": {
    "tags": []
   },
   "outputs": [],
   "source": [
    "from surprise.model_selection import train_test_split\n",
    "\n",
    "trainset, testset = train_test_split(data, test_size=0.2)"
   ]
  },
  {
   "cell_type": "code",
   "execution_count": 16,
   "id": "a64cae71-2fc0-45da-b550-e92cebb7b01c",
   "metadata": {
    "tags": []
   },
   "outputs": [
    {
     "name": "stdout",
     "output_type": "stream",
     "text": [
      "Computing the msd similarity matrix...\n",
      "Done computing similarity matrix.\n"
     ]
    },
    {
     "data": {
      "text/plain": [
       "<surprise.prediction_algorithms.knns.KNNWithMeans at 0x23f5ff783d0>"
      ]
     },
     "execution_count": 16,
     "metadata": {},
     "output_type": "execute_result"
    }
   ],
   "source": [
    "from surprise import KNNWithMeans\n",
    "\n",
    "model = KNNWithMeans()\n",
    "model.fit(trainset)"
   ]
  },
  {
   "cell_type": "code",
   "execution_count": 18,
   "id": "497a8955-e3ad-4a6a-81eb-e7a8efce5b76",
   "metadata": {
    "tags": []
   },
   "outputs": [
    {
     "name": "stdout",
     "output_type": "stream",
     "text": [
      "RMSE: 1.1866\n"
     ]
    },
    {
     "data": {
      "text/plain": [
       "1.1865654453529382"
      ]
     },
     "execution_count": 18,
     "metadata": {},
     "output_type": "execute_result"
    }
   ],
   "source": [
    "predictions = model.test(testset)\n",
    "from surprise import accuracy\n",
    "# Calcul de la RMSE (Root Mean Squared Error)\n",
    "accuracy.rmse(predictions)"
   ]
  },
  {
   "cell_type": "code",
   "execution_count": null,
   "id": "c1ea73f3-d914-489a-b30f-e488426a6b71",
   "metadata": {},
   "outputs": [],
   "source": []
  }
 ],
 "metadata": {
  "kernelspec": {
   "display_name": "Python 3 (ipykernel)",
   "language": "python",
   "name": "python3"
  },
  "language_info": {
   "codemirror_mode": {
    "name": "ipython",
    "version": 3
   },
   "file_extension": ".py",
   "mimetype": "text/x-python",
   "name": "python",
   "nbconvert_exporter": "python",
   "pygments_lexer": "ipython3",
   "version": "3.11.4"
  }
 },
 "nbformat": 4,
 "nbformat_minor": 5
}
