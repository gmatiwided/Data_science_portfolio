{
 "cells": [
  {
   "cell_type": "code",
   "execution_count": 76,
   "id": "1296a49a-3cff-4b85-9b2c-e92ebf89c30c",
   "metadata": {
    "tags": []
   },
   "outputs": [],
   "source": [
    "import pandas as pd "
   ]
  },
  {
   "cell_type": "code",
   "execution_count": 77,
   "id": "188added-53ef-4088-8859-e79b294049ff",
   "metadata": {
    "tags": []
   },
   "outputs": [],
   "source": [
    "df = pd.read_csv(\"D:\\data science projects\\Datasets\\world-data-2023.csv\")"
   ]
  },
  {
   "cell_type": "code",
   "execution_count": 78,
   "id": "93118a70-ffd8-4209-8e9a-19b88170eb0b",
   "metadata": {
    "tags": []
   },
   "outputs": [
    {
     "data": {
      "text/plain": [
       "(195, 35)"
      ]
     },
     "execution_count": 78,
     "metadata": {},
     "output_type": "execute_result"
    }
   ],
   "source": [
    "df.shape"
   ]
  },
  {
   "cell_type": "code",
   "execution_count": 79,
   "id": "355a60b9-faf8-41dc-83d3-f76aa3203f83",
   "metadata": {
    "tags": []
   },
   "outputs": [
    {
     "name": "stdout",
     "output_type": "stream",
     "text": [
      "<class 'pandas.core.frame.DataFrame'>\n",
      "RangeIndex: 195 entries, 0 to 194\n",
      "Data columns (total 35 columns):\n",
      " #   Column                                     Non-Null Count  Dtype  \n",
      "---  ------                                     --------------  -----  \n",
      " 0   Country                                    195 non-null    object \n",
      " 1   Density\n",
      "(P/Km2)                            195 non-null    object \n",
      " 2   Abbreviation                               188 non-null    object \n",
      " 3   Agricultural Land( %)                      188 non-null    object \n",
      " 4   Land Area(Km2)                             194 non-null    object \n",
      " 5   Armed Forces size                          171 non-null    object \n",
      " 6   Birth Rate                                 189 non-null    float64\n",
      " 7   Calling Code                               194 non-null    float64\n",
      " 8   Capital/Major City                         192 non-null    object \n",
      " 9   Co2-Emissions                              188 non-null    object \n",
      " 10  CPI                                        178 non-null    object \n",
      " 11  CPI Change (%)                             179 non-null    object \n",
      " 12  Currency-Code                              180 non-null    object \n",
      " 13  Fertility Rate                             188 non-null    float64\n",
      " 14  Forested Area (%)                          188 non-null    object \n",
      " 15  Gasoline Price                             175 non-null    object \n",
      " 16  GDP                                        193 non-null    object \n",
      " 17  Gross primary education enrollment (%)     188 non-null    object \n",
      " 18  Gross tertiary education enrollment (%)    183 non-null    object \n",
      " 19  Infant mortality                           189 non-null    float64\n",
      " 20  Largest city                               189 non-null    object \n",
      " 21  Life expectancy                            187 non-null    float64\n",
      " 22  Maternal mortality ratio                   181 non-null    float64\n",
      " 23  Minimum wage                               150 non-null    object \n",
      " 24  Official language                          194 non-null    object \n",
      " 25  Out of pocket health expenditure           188 non-null    object \n",
      " 26  Physicians per thousand                    188 non-null    float64\n",
      " 27  Population                                 194 non-null    object \n",
      " 28  Population: Labor force participation (%)  176 non-null    object \n",
      " 29  Tax revenue (%)                            169 non-null    object \n",
      " 30  Total tax rate                             183 non-null    object \n",
      " 31  Unemployment rate                          176 non-null    object \n",
      " 32  Urban_population                           190 non-null    object \n",
      " 33  Latitude                                   194 non-null    float64\n",
      " 34  Longitude                                  194 non-null    float64\n",
      "dtypes: float64(9), object(26)\n",
      "memory usage: 53.4+ KB\n"
     ]
    }
   ],
   "source": [
    "df.info()"
   ]
  },
  {
   "cell_type": "code",
   "execution_count": 80,
   "id": "7037a1c6-72be-4aa0-965f-f07b0d031a66",
   "metadata": {
    "tags": []
   },
   "outputs": [
    {
     "data": {
      "text/plain": [
       "Country                                       0\n",
       "Density\\n(P/Km2)                              0\n",
       "Abbreviation                                  7\n",
       "Agricultural Land( %)                         7\n",
       "Land Area(Km2)                                1\n",
       "Armed Forces size                            24\n",
       "Birth Rate                                    6\n",
       "Calling Code                                  1\n",
       "Capital/Major City                            3\n",
       "Co2-Emissions                                 7\n",
       "CPI                                          17\n",
       "CPI Change (%)                               16\n",
       "Currency-Code                                15\n",
       "Fertility Rate                                7\n",
       "Forested Area (%)                             7\n",
       "Gasoline Price                               20\n",
       "GDP                                           2\n",
       "Gross primary education enrollment (%)        7\n",
       "Gross tertiary education enrollment (%)      12\n",
       "Infant mortality                              6\n",
       "Largest city                                  6\n",
       "Life expectancy                               8\n",
       "Maternal mortality ratio                     14\n",
       "Minimum wage                                 45\n",
       "Official language                             1\n",
       "Out of pocket health expenditure              7\n",
       "Physicians per thousand                       7\n",
       "Population                                    1\n",
       "Population: Labor force participation (%)    19\n",
       "Tax revenue (%)                              26\n",
       "Total tax rate                               12\n",
       "Unemployment rate                            19\n",
       "Urban_population                              5\n",
       "Latitude                                      1\n",
       "Longitude                                     1\n",
       "dtype: int64"
      ]
     },
     "execution_count": 80,
     "metadata": {},
     "output_type": "execute_result"
    }
   ],
   "source": [
    "df.isna().sum()"
   ]
  },
  {
   "cell_type": "markdown",
   "id": "d44d8845-f6e0-47cc-b63c-25f3383c1845",
   "metadata": {},
   "source": [
    "OUR CASE STUDY IS \"Analyze healthcare metrics such as infant mortality and life expectancy to assess overall well-being\""
   ]
  },
  {
   "cell_type": "code",
   "execution_count": 81,
   "id": "41817ff4-2992-4620-9940-5a734b9e9f96",
   "metadata": {
    "tags": []
   },
   "outputs": [],
   "source": [
    "columns_needed=['Country', 'Infant mortality', 'Life expectancy', 'Population','Physicians per thousand', 'Out of pocket health expenditure','Maternal mortality ratio', 'Urban_population']"
   ]
  },
  {
   "cell_type": "code",
   "execution_count": 96,
   "id": "ba101604-4491-48fb-b675-00a1e13284d0",
   "metadata": {
    "tags": []
   },
   "outputs": [
    {
     "data": {
      "text/html": [
       "<div>\n",
       "<style scoped>\n",
       "    .dataframe tbody tr th:only-of-type {\n",
       "        vertical-align: middle;\n",
       "    }\n",
       "\n",
       "    .dataframe tbody tr th {\n",
       "        vertical-align: top;\n",
       "    }\n",
       "\n",
       "    .dataframe thead th {\n",
       "        text-align: right;\n",
       "    }\n",
       "</style>\n",
       "<table border=\"1\" class=\"dataframe\">\n",
       "  <thead>\n",
       "    <tr style=\"text-align: right;\">\n",
       "      <th></th>\n",
       "      <th>Country</th>\n",
       "      <th>Infant mortality</th>\n",
       "      <th>Life expectancy</th>\n",
       "      <th>Population</th>\n",
       "      <th>Physicians per thousand</th>\n",
       "      <th>Out of pocket health expenditure</th>\n",
       "      <th>Maternal mortality ratio</th>\n",
       "      <th>Urban_population</th>\n",
       "    </tr>\n",
       "  </thead>\n",
       "  <tbody>\n",
       "    <tr>\n",
       "      <th>0</th>\n",
       "      <td>Afghanistan</td>\n",
       "      <td>47.9</td>\n",
       "      <td>64.5</td>\n",
       "      <td>38,041,754</td>\n",
       "      <td>0.28</td>\n",
       "      <td>78.40%</td>\n",
       "      <td>638.0</td>\n",
       "      <td>9,797,273</td>\n",
       "    </tr>\n",
       "    <tr>\n",
       "      <th>1</th>\n",
       "      <td>Albania</td>\n",
       "      <td>7.8</td>\n",
       "      <td>78.5</td>\n",
       "      <td>2,854,191</td>\n",
       "      <td>1.20</td>\n",
       "      <td>56.90%</td>\n",
       "      <td>15.0</td>\n",
       "      <td>1,747,593</td>\n",
       "    </tr>\n",
       "    <tr>\n",
       "      <th>2</th>\n",
       "      <td>Algeria</td>\n",
       "      <td>20.1</td>\n",
       "      <td>76.7</td>\n",
       "      <td>43,053,054</td>\n",
       "      <td>1.72</td>\n",
       "      <td>28.10%</td>\n",
       "      <td>112.0</td>\n",
       "      <td>31,510,100</td>\n",
       "    </tr>\n",
       "    <tr>\n",
       "      <th>4</th>\n",
       "      <td>Angola</td>\n",
       "      <td>51.6</td>\n",
       "      <td>60.8</td>\n",
       "      <td>31,825,295</td>\n",
       "      <td>0.21</td>\n",
       "      <td>33.40%</td>\n",
       "      <td>241.0</td>\n",
       "      <td>21,061,025</td>\n",
       "    </tr>\n",
       "    <tr>\n",
       "      <th>5</th>\n",
       "      <td>Antigua and Barbuda</td>\n",
       "      <td>5.0</td>\n",
       "      <td>76.9</td>\n",
       "      <td>97,118</td>\n",
       "      <td>2.76</td>\n",
       "      <td>24.30%</td>\n",
       "      <td>42.0</td>\n",
       "      <td>23,800</td>\n",
       "    </tr>\n",
       "    <tr>\n",
       "      <th>...</th>\n",
       "      <td>...</td>\n",
       "      <td>...</td>\n",
       "      <td>...</td>\n",
       "      <td>...</td>\n",
       "      <td>...</td>\n",
       "      <td>...</td>\n",
       "      <td>...</td>\n",
       "      <td>...</td>\n",
       "    </tr>\n",
       "    <tr>\n",
       "      <th>190</th>\n",
       "      <td>Venezuela</td>\n",
       "      <td>21.4</td>\n",
       "      <td>72.1</td>\n",
       "      <td>28,515,829</td>\n",
       "      <td>1.92</td>\n",
       "      <td>45.80%</td>\n",
       "      <td>125.0</td>\n",
       "      <td>25,162,368</td>\n",
       "    </tr>\n",
       "    <tr>\n",
       "      <th>191</th>\n",
       "      <td>Vietnam</td>\n",
       "      <td>16.5</td>\n",
       "      <td>75.3</td>\n",
       "      <td>96,462,106</td>\n",
       "      <td>0.82</td>\n",
       "      <td>43.50%</td>\n",
       "      <td>43.0</td>\n",
       "      <td>35,332,140</td>\n",
       "    </tr>\n",
       "    <tr>\n",
       "      <th>192</th>\n",
       "      <td>Yemen</td>\n",
       "      <td>42.9</td>\n",
       "      <td>66.1</td>\n",
       "      <td>29,161,922</td>\n",
       "      <td>0.31</td>\n",
       "      <td>81.00%</td>\n",
       "      <td>164.0</td>\n",
       "      <td>10,869,523</td>\n",
       "    </tr>\n",
       "    <tr>\n",
       "      <th>193</th>\n",
       "      <td>Zambia</td>\n",
       "      <td>40.4</td>\n",
       "      <td>63.5</td>\n",
       "      <td>17,861,030</td>\n",
       "      <td>1.19</td>\n",
       "      <td>27.50%</td>\n",
       "      <td>213.0</td>\n",
       "      <td>7,871,713</td>\n",
       "    </tr>\n",
       "    <tr>\n",
       "      <th>194</th>\n",
       "      <td>Zimbabwe</td>\n",
       "      <td>33.9</td>\n",
       "      <td>61.2</td>\n",
       "      <td>14,645,468</td>\n",
       "      <td>0.21</td>\n",
       "      <td>25.80%</td>\n",
       "      <td>458.0</td>\n",
       "      <td>4,717,305</td>\n",
       "    </tr>\n",
       "  </tbody>\n",
       "</table>\n",
       "<p>176 rows × 8 columns</p>\n",
       "</div>"
      ],
      "text/plain": [
       "                 Country  Infant mortality  Life expectancy  Population  \\\n",
       "0            Afghanistan              47.9             64.5  38,041,754   \n",
       "1                Albania               7.8             78.5   2,854,191   \n",
       "2                Algeria              20.1             76.7  43,053,054   \n",
       "4                 Angola              51.6             60.8  31,825,295   \n",
       "5    Antigua and Barbuda               5.0             76.9      97,118   \n",
       "..                   ...               ...              ...         ...   \n",
       "190            Venezuela              21.4             72.1  28,515,829   \n",
       "191              Vietnam              16.5             75.3  96,462,106   \n",
       "192                Yemen              42.9             66.1  29,161,922   \n",
       "193               Zambia              40.4             63.5  17,861,030   \n",
       "194             Zimbabwe              33.9             61.2  14,645,468   \n",
       "\n",
       "     Physicians per thousand Out of pocket health expenditure  \\\n",
       "0                       0.28                           78.40%   \n",
       "1                       1.20                           56.90%   \n",
       "2                       1.72                           28.10%   \n",
       "4                       0.21                           33.40%   \n",
       "5                       2.76                           24.30%   \n",
       "..                       ...                              ...   \n",
       "190                     1.92                           45.80%   \n",
       "191                     0.82                           43.50%   \n",
       "192                     0.31                           81.00%   \n",
       "193                     1.19                           27.50%   \n",
       "194                     0.21                           25.80%   \n",
       "\n",
       "     Maternal mortality ratio Urban_population  \n",
       "0                       638.0        9,797,273  \n",
       "1                        15.0        1,747,593  \n",
       "2                       112.0       31,510,100  \n",
       "4                       241.0       21,061,025  \n",
       "5                        42.0           23,800  \n",
       "..                        ...              ...  \n",
       "190                     125.0       25,162,368  \n",
       "191                      43.0       35,332,140  \n",
       "192                     164.0       10,869,523  \n",
       "193                     213.0        7,871,713  \n",
       "194                     458.0        4,717,305  \n",
       "\n",
       "[176 rows x 8 columns]"
      ]
     },
     "execution_count": 96,
     "metadata": {},
     "output_type": "execute_result"
    }
   ],
   "source": [
    "df=df[columns_needed]\n",
    "df.to_excel('D:\\data science projects\\Datasets\\selected-world-data-2023.xlsx', index=False, header=True)\n",
    "df"
   ]
  },
  {
   "cell_type": "code",
   "execution_count": 83,
   "id": "41b8c926-661c-46f0-b3de-202c78b6c070",
   "metadata": {
    "tags": []
   },
   "outputs": [
    {
     "data": {
      "text/plain": [
       "Index(['Country', 'Infant mortality', 'Life expectancy', 'Population',\n",
       "       'Physicians per thousand', 'Out of pocket health expenditure',\n",
       "       'Maternal mortality ratio', 'Urban_population'],\n",
       "      dtype='object')"
      ]
     },
     "execution_count": 83,
     "metadata": {},
     "output_type": "execute_result"
    }
   ],
   "source": [
    "df.columns"
   ]
  },
  {
   "cell_type": "code",
   "execution_count": 84,
   "id": "63fd06ea-064a-488d-9113-f4526d983ff1",
   "metadata": {
    "tags": []
   },
   "outputs": [
    {
     "data": {
      "text/plain": [
       "Country                              0\n",
       "Infant mortality                     6\n",
       "Life expectancy                      8\n",
       "Population                           1\n",
       "Physicians per thousand              7\n",
       "Out of pocket health expenditure     7\n",
       "Maternal mortality ratio            14\n",
       "Urban_population                     5\n",
       "dtype: int64"
      ]
     },
     "execution_count": 84,
     "metadata": {},
     "output_type": "execute_result"
    }
   ],
   "source": [
    "df.isna().sum()"
   ]
  },
  {
   "cell_type": "code",
   "execution_count": 85,
   "id": "62d48c49-17cd-4742-8dc1-dd25e00e57c3",
   "metadata": {
    "tags": []
   },
   "outputs": [],
   "source": [
    "df=df.drop_duplicates()"
   ]
  },
  {
   "cell_type": "code",
   "execution_count": 86,
   "id": "0600a023-f275-422e-a4e3-83cafa6408d2",
   "metadata": {
    "tags": []
   },
   "outputs": [
    {
     "data": {
      "text/plain": [
       "(195, 8)"
      ]
     },
     "execution_count": 86,
     "metadata": {},
     "output_type": "execute_result"
    }
   ],
   "source": [
    "df.shape"
   ]
  },
  {
   "cell_type": "code",
   "execution_count": 87,
   "id": "f06d426e-2db6-4c6c-9fe7-02ac7f310722",
   "metadata": {
    "tags": []
   },
   "outputs": [
    {
     "data": {
      "text/plain": [
       "Country                             S�����������\n",
       "Infant mortality                            24.4\n",
       "Life expectancy                             70.2\n",
       "Population                               215,056\n",
       "Physicians per thousand                     0.05\n",
       "Out of pocket health expenditure          11.70%\n",
       "Maternal mortality ratio                   130.0\n",
       "Urban_population                         158,277\n",
       "Name: 150, dtype: object"
      ]
     },
     "execution_count": 87,
     "metadata": {},
     "output_type": "execute_result"
    }
   ],
   "source": [
    "df.loc[150]"
   ]
  },
  {
   "cell_type": "code",
   "execution_count": 95,
   "id": "6d784009-d749-4f19-8f29-1a7e54402517",
   "metadata": {
    "tags": []
   },
   "outputs": [],
   "source": [
    "df=df.drop(150)"
   ]
  },
  {
   "cell_type": "code",
   "execution_count": 88,
   "id": "6d79d618-e333-4686-bddc-dc16760ad594",
   "metadata": {
    "tags": []
   },
   "outputs": [],
   "source": [
    "df=df.dropna()"
   ]
  },
  {
   "cell_type": "code",
   "execution_count": 89,
   "id": "cdf18bed-2fda-4a99-98d5-430af523b598",
   "metadata": {
    "tags": []
   },
   "outputs": [],
   "source": [
    "df.to_excel('D:\\data science projects\\Datasets\\cleanded-world-data-2023.xlsx', index=False, header=True)"
   ]
  },
  {
   "cell_type": "code",
   "execution_count": 97,
   "id": "8e4bc106-ca9e-4172-8df0-45f4b7abab67",
   "metadata": {
    "tags": []
   },
   "outputs": [
    {
     "data": {
      "text/plain": [
       "(176, 8)"
      ]
     },
     "execution_count": 97,
     "metadata": {},
     "output_type": "execute_result"
    }
   ],
   "source": [
    "df.shape"
   ]
  }
 ],
 "metadata": {
  "kernelspec": {
   "display_name": "Python 3 (ipykernel)",
   "language": "python",
   "name": "python3"
  },
  "language_info": {
   "codemirror_mode": {
    "name": "ipython",
    "version": 3
   },
   "file_extension": ".py",
   "mimetype": "text/x-python",
   "name": "python",
   "nbconvert_exporter": "python",
   "pygments_lexer": "ipython3",
   "version": "3.11.4"
  }
 },
 "nbformat": 4,
 "nbformat_minor": 5
}
